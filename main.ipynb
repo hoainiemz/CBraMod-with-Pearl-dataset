{
 "cells": [
  {
   "cell_type": "code",
   "execution_count": 3,
   "id": "ccb8d827",
   "metadata": {},
   "outputs": [],
   "source": [
    "import argparse\n",
    "import random\n",
    "\n",
    "import numpy as np\n",
    "import torch\n",
    "\n",
    "import wandb\n",
    "\n",
    "from datasets import faced_dataset, seedv_dataset, physio_dataset, shu_dataset, isruc_dataset, chb_dataset, \\\n",
    "    speech_dataset, mumtaz_dataset, seedvig_dataset, stress_dataset, tuev_dataset, tuab_dataset, bciciv2a_dataset\n",
    "from datasets import pearl_kfold_dataset as pearl_dataset\n",
    "from finetune_trainer_kfold import Trainer\n",
    "from models import model_for_faced, model_for_seedv, model_for_physio, model_for_shu, model_for_isruc, model_for_chb, \\\n",
    "    model_for_speech, model_for_mumtaz, model_for_seedvig, model_for_stress, model_for_tuev, model_for_tuab, \\\n",
    "    model_for_bciciv2a, model_for_pearl\n",
    "\n",
    "\n",
    "def main(argv=[]):\n",
    "    parser = argparse.ArgumentParser(description='Big model downstream')\n",
    "    parser.add_argument('--project_name', type=str, default='EEGFoundationModel', help='project_name')\n",
    "    parser.add_argument('--modality_mode', type=str, default='multi_attend', help='modality_mode (mono (only EEG), multi (EEG + other modalities))')\n",
    "    parser.add_argument('--num_folds', type=int, default=0, help='fold to test, -1 means all folds')\n",
    "    parser.add_argument('--seed', type=int, default=3407, help='random seed (default: 0)')\n",
    "    parser.add_argument('--cuda', type=int, default=0, help='cuda number (default: 1)')\n",
    "    parser.add_argument('--epochs', type=int, default=20, help='number of epochs (default: 5)')\n",
    "    parser.add_argument('--batch_size', type=int, default=32, help='batch size for training (default: 32)')\n",
    "    parser.add_argument('--lr', type=float, default=3e-4, help='learning rate (default: 1e-3)')\n",
    "    parser.add_argument('--weight_decay', type=float, default=5e-2, help='weight decay (default: 1e-2)')\n",
    "    parser.add_argument('--optimizer', type=str, default='AdamW', help='optimizer (AdamW, SGD)')\n",
    "    parser.add_argument('--clip_value', type=float, default=1, help='clip_value')\n",
    "    parser.add_argument('--dropout', type=float, default=0.1, help='dropout')\n",
    "    parser.add_argument('--classifier', type=str, default='all_patch_reps',\n",
    "                        help='[all_patch_reps, all_patch_reps_twolayer, '\n",
    "                             'all_patch_reps_onelayer, avgpooling_patch_reps]')\n",
    "    # all_patch_reps: use all patch features with a three-layer classifier;\n",
    "    # all_patch_reps_twolayer: use all patch features with a two-layer classifier;\n",
    "    # all_patch_reps_onelayer: use all patch features with a one-layer classifier;\n",
    "    # avgpooling_patch_reps: use average pooling for patch features;\n",
    "\n",
    "    \"\"\"############ Downstream dataset settings ############\"\"\"\n",
    "    parser.add_argument('--downstream_dataset', type=str, default='PEARL',\n",
    "                        help='[FACED, SEED-V, PhysioNet-MI, SHU-MI, ISRUC, CHB-MIT, BCIC2020-3, Mumtaz2016, '\n",
    "                             'SEED-VIG, MentalArithmetic, TUEV, TUAB, BCIC-IV-2a, PEARL]')\n",
    "    parser.add_argument('--datasets_dir', type=str,\n",
    "                        default='/mnt/disk1/aiotlab/namth/EEGFoundationModel/datasets/pearl_30s',\n",
    "                        help='datasets_dir')\n",
    "    parser.add_argument('--num_of_classes', type=int, default=2, help='number of classes')\n",
    "    parser.add_argument('--model_dir', type=str, default='./data/wjq/models_weights/Big/BigFaced', help='model_dir')\n",
    "    \"\"\"############ Downstream dataset settings ############\"\"\"\n",
    "\n",
    "    parser.add_argument('--num_workers', type=int, default=16, help='num_workers')\n",
    "    parser.add_argument('--label_smoothing', type=float, default=0.1, help='label_smoothing')\n",
    "    parser.add_argument('--multi_lr', type=bool, default=False,\n",
    "                        help='multi_lr')  # set different learning rates for different modules\n",
    "    parser.add_argument('--frozen', type=bool,\n",
    "                        default=False, help='frozen')\n",
    "    parser.add_argument('--use_pretrained_weights', type=bool,\n",
    "                        default=True, help='use_pretrained_weights')\n",
    "    parser.add_argument('--foundation_dir', type=str,\n",
    "                        default='pretrained_weights/pretrained_108.pth',\n",
    "                        help='foundation_dir')\n",
    "\n",
    "    params = parser.parse_args(args=argv)\n",
    "    \n",
    "    group = 'Reproduce'\n",
    "    \n",
    "    print(params)\n",
    "\n",
    "    dir = params.datasets_dir\n",
    "    # torch.cuda.set_device(params.cuda)\n",
    "    if params.downstream_dataset == 'PEARL':\n",
    "        acc, pr_auc, roc_auc = 0, 0, 0\n",
    "        for i in range(5):\n",
    "            if params.num_folds != -1 and i != params.num_folds:\n",
    "                continue\n",
    "            run = wandb.init(project=params.project_name, \n",
    "                    group=group,\n",
    "                    name=f'data_{params.downstream_dataset}_seed_{params.seed}',\n",
    "                    config=vars(params))\n",
    "            setup_seed(params.seed)\n",
    "            params.datasets_dir = f'{dir}/fold_{i}'\n",
    "            load_dataset = pearl_dataset.LoadDataset(params)\n",
    "            data_loader = load_dataset.get_data_loader()\n",
    "            model = model_for_pearl.Model(params).cuda()\n",
    "            t = Trainer(params, data_loader, model)\n",
    "            acc_, pr_auc_, roc_auc_ = t.train_for_binaryclass()\n",
    "            acc += acc_\n",
    "            pr_auc += pr_auc_\n",
    "            roc_auc += roc_auc_\n",
    "            run.finish()\n",
    "\n",
    "        if params.num_folds == -1:\n",
    "            acc /= 5\n",
    "            pr_auc /= 5\n",
    "            roc_auc /= 5\n",
    "        print(f'5-fold cross validation results: acc {acc}, pr_auc {pr_auc}, roc_auc {roc_auc}')\n",
    "\n",
    "    print('Done!!!!!')\n",
    "\n",
    "\n",
    "def setup_seed(seed):\n",
    "    torch.manual_seed(seed)\n",
    "    torch.cuda.manual_seed_all(seed)\n",
    "    np.random.seed(seed)\n",
    "    random.seed(seed)\n",
    "    torch.backends.cudnn.deterministic = True"
   ]
  },
  {
   "cell_type": "code",
   "execution_count": 4,
   "id": "052b260e",
   "metadata": {},
   "outputs": [
    {
     "name": "stderr",
     "output_type": "stream",
     "text": [
      "\u001b[34m\u001b[1mwandb\u001b[0m: \u001b[33mWARNING\u001b[0m If you're specifying your api key in code, ensure this code is not shared publicly.\n",
      "\u001b[34m\u001b[1mwandb\u001b[0m: \u001b[33mWARNING\u001b[0m Consider setting the WANDB_API_KEY environment variable, or running `wandb login` from the command line.\n",
      "\u001b[34m\u001b[1mwandb\u001b[0m: Appending key for api.wandb.ai to your netrc file: /home/aiotlab/.netrc\n"
     ]
    },
    {
     "name": "stdout",
     "output_type": "stream",
     "text": [
      "Namespace(project_name='EEGFoundationModel', modality_mode='multi_attend', num_folds=0, seed=3407, cuda=0, epochs=20, batch_size=32, lr=0.0003, weight_decay=0.05, optimizer='AdamW', clip_value=1, dropout=0.1, classifier='all_patch_reps', downstream_dataset='PEARL', datasets_dir='/mnt/disk1/aiotlab/namth/EEGFoundationModel/datasets/pearl_30s', num_of_classes=2, model_dir='./data/wjq/models_weights/Big/BigFaced', num_workers=16, label_smoothing=0.1, multi_lr=False, frozen=False, use_pretrained_weights=True, foundation_dir='pretrained_weights/pretrained_108.pth')\n"
     ]
    },
    {
     "data": {
      "text/html": [],
      "text/plain": [
       "<IPython.core.display.HTML object>"
      ]
     },
     "metadata": {},
     "output_type": "display_data"
    },
    {
     "data": {
      "text/html": [
       "Tracking run with wandb version 0.21.4"
      ],
      "text/plain": [
       "<IPython.core.display.HTML object>"
      ]
     },
     "metadata": {},
     "output_type": "display_data"
    },
    {
     "data": {
      "text/html": [
       "Run data is saved locally in <code>/mnt/disk1/aiotlab/namth/EEGFoundationModel/CBraMod/wandb/run-20250918_220831-64ag433l</code>"
      ],
      "text/plain": [
       "<IPython.core.display.HTML object>"
      ]
     },
     "metadata": {},
     "output_type": "display_data"
    },
    {
     "data": {
      "text/html": [
       "Syncing run <strong><a href='https://wandb.ai/hoainiem-hanoi-university-of-science-and-technology/EEGFoundationModel/runs/64ag433l' target=\"_blank\">data_PEARL_seed_3407</a></strong> to <a href='https://wandb.ai/hoainiem-hanoi-university-of-science-and-technology/EEGFoundationModel' target=\"_blank\">Weights & Biases</a> (<a href='https://wandb.me/developer-guide' target=\"_blank\">docs</a>)<br>"
      ],
      "text/plain": [
       "<IPython.core.display.HTML object>"
      ]
     },
     "metadata": {},
     "output_type": "display_data"
    },
    {
     "data": {
      "text/html": [
       " View project at <a href='https://wandb.ai/hoainiem-hanoi-university-of-science-and-technology/EEGFoundationModel' target=\"_blank\">https://wandb.ai/hoainiem-hanoi-university-of-science-and-technology/EEGFoundationModel</a>"
      ],
      "text/plain": [
       "<IPython.core.display.HTML object>"
      ]
     },
     "metadata": {},
     "output_type": "display_data"
    },
    {
     "data": {
      "text/html": [
       " View run at <a href='https://wandb.ai/hoainiem-hanoi-university-of-science-and-technology/EEGFoundationModel/runs/64ag433l' target=\"_blank\">https://wandb.ai/hoainiem-hanoi-university-of-science-and-technology/EEGFoundationModel/runs/64ag433l</a>"
      ],
      "text/plain": [
       "<IPython.core.display.HTML object>"
      ]
     },
     "metadata": {},
     "output_type": "display_data"
    },
    {
     "name": "stdout",
     "output_type": "stream",
     "text": [
      "503 114 135\n",
      "752\n",
      "Model(\n",
      "  (backbone): CBraMod(\n",
      "    (patch_embedding): PatchEmbedding(\n",
      "      (positional_encoding): Sequential(\n",
      "        (0): Conv2d(200, 200, kernel_size=(19, 7), stride=(1, 1), padding=(9, 3), groups=200)\n",
      "      )\n",
      "      (proj_in): Sequential(\n",
      "        (0): Conv2d(1, 25, kernel_size=(1, 49), stride=(1, 25), padding=(0, 24))\n",
      "        (1): GroupNorm(5, 25, eps=1e-05, affine=True)\n",
      "        (2): GELU(approximate='none')\n",
      "        (3): Conv2d(25, 25, kernel_size=(1, 3), stride=(1, 1), padding=(0, 1))\n",
      "        (4): GroupNorm(5, 25, eps=1e-05, affine=True)\n",
      "        (5): GELU(approximate='none')\n",
      "        (6): Conv2d(25, 25, kernel_size=(1, 3), stride=(1, 1), padding=(0, 1))\n",
      "        (7): GroupNorm(5, 25, eps=1e-05, affine=True)\n",
      "        (8): GELU(approximate='none')\n",
      "      )\n",
      "      (spectral_proj): Sequential(\n",
      "        (0): Linear(in_features=101, out_features=200, bias=True)\n",
      "        (1): Dropout(p=0.1, inplace=False)\n",
      "      )\n",
      "    )\n",
      "    (encoder): TransformerEncoder(\n",
      "      (layers): ModuleList(\n",
      "        (0-11): 12 x TransformerEncoderLayer(\n",
      "          (self_attn_s): MultiheadAttention(\n",
      "            (out_proj): NonDynamicallyQuantizableLinear(in_features=100, out_features=100, bias=True)\n",
      "          )\n",
      "          (self_attn_t): MultiheadAttention(\n",
      "            (out_proj): NonDynamicallyQuantizableLinear(in_features=100, out_features=100, bias=True)\n",
      "          )\n",
      "          (linear1): Linear(in_features=200, out_features=800, bias=True)\n",
      "          (dropout): Dropout(p=0.1, inplace=False)\n",
      "          (linear2): Linear(in_features=800, out_features=200, bias=True)\n",
      "          (norm1): LayerNorm((200,), eps=1e-05, elementwise_affine=True)\n",
      "          (norm2): LayerNorm((200,), eps=1e-05, elementwise_affine=True)\n",
      "          (dropout1): Dropout(p=0.1, inplace=False)\n",
      "          (dropout2): Dropout(p=0.1, inplace=False)\n",
      "        )\n",
      "      )\n",
      "    )\n",
      "    (proj_out): Identity()\n",
      "  )\n",
      "  (meta_backbone): Sequential(\n",
      "    (0): Linear(in_features=28, out_features=100, bias=True)\n",
      "    (1): ReLU()\n",
      "    (2): Dropout(p=0.1, inplace=False)\n",
      "    (3): Linear(in_features=100, out_features=200, bias=True)\n",
      "  )\n",
      "  (arranger): Rearrange('b c s d -> b (c s) d')\n",
      "  (attention): ParamAttention(\n",
      "    (Wq): Linear(in_features=200, out_features=200, bias=False)\n",
      "    (Wk): Linear(in_features=200, out_features=200, bias=False)\n",
      "    (Wv): Linear(in_features=200, out_features=200, bias=False)\n",
      "    (drop): Dropout(p=0.1, inplace=False)\n",
      "  )\n",
      "  (classifier): Sequential(\n",
      "    (0): Linear(in_features=200, out_features=1, bias=True)\n",
      "    (1): Rearrange('b 1 -> (b 1)')\n",
      "  )\n",
      ")\n"
     ]
    },
    {
     "name": "stderr",
     "output_type": "stream",
     "text": [
      "100%|██████████| 16/16 [00:04<00:00,  3.39it/s]\n"
     ]
    },
    {
     "name": "stdout",
     "output_type": "stream",
     "text": [
      "Epoch 1 : Training Loss: 0.69835, LR: 0.00030, Time elapsed 0.08 mins\n"
     ]
    },
    {
     "name": "stderr",
     "output_type": "stream",
     "text": [
      "100%|██████████| 4/4 [00:00<00:00, 16.07it/s]\n"
     ]
    },
    {
     "name": "stdout",
     "output_type": "stream",
     "text": [
      "val Evaluation: acc: 0.50000, pr_auc: 0.83481, roc_auc: 0.83190\n",
      "[[56  0]\n",
      " [58  0]]\n",
      "roc_auc increasing....saving weights !! \n",
      "Val Evaluation: acc: 0.50000, pr_auc: 0.83481, roc_auc: 0.83190\n"
     ]
    },
    {
     "name": "stderr",
     "output_type": "stream",
     "text": [
      "100%|██████████| 16/16 [00:03<00:00,  5.00it/s]\n"
     ]
    },
    {
     "name": "stdout",
     "output_type": "stream",
     "text": [
      "Epoch 2 : Training Loss: 0.69649, LR: 0.00029, Time elapsed 0.05 mins\n"
     ]
    },
    {
     "name": "stderr",
     "output_type": "stream",
     "text": [
      "100%|██████████| 4/4 [00:00<00:00, 18.22it/s]\n"
     ]
    },
    {
     "name": "stdout",
     "output_type": "stream",
     "text": [
      "val Evaluation: acc: 0.50000, pr_auc: 0.79766, roc_auc: 0.77371\n",
      "[[56  0]\n",
      " [58  0]]\n"
     ]
    },
    {
     "name": "stderr",
     "output_type": "stream",
     "text": [
      "100%|██████████| 16/16 [00:03<00:00,  5.02it/s]\n"
     ]
    },
    {
     "name": "stdout",
     "output_type": "stream",
     "text": [
      "Epoch 3 : Training Loss: 0.58607, LR: 0.00028, Time elapsed 0.05 mins\n"
     ]
    },
    {
     "name": "stderr",
     "output_type": "stream",
     "text": [
      "100%|██████████| 4/4 [00:00<00:00, 17.60it/s]\n"
     ]
    },
    {
     "name": "stdout",
     "output_type": "stream",
     "text": [
      "val Evaluation: acc: 0.66964, pr_auc: 0.69311, roc_auc: 0.62962\n",
      "[[19 37]\n",
      " [ 0 58]]\n"
     ]
    },
    {
     "name": "stderr",
     "output_type": "stream",
     "text": [
      "100%|██████████| 16/16 [00:03<00:00,  5.01it/s]\n"
     ]
    },
    {
     "name": "stdout",
     "output_type": "stream",
     "text": [
      "Epoch 4 : Training Loss: 0.17661, LR: 0.00027, Time elapsed 0.05 mins\n"
     ]
    },
    {
     "name": "stderr",
     "output_type": "stream",
     "text": [
      "100%|██████████| 4/4 [00:00<00:00, 17.47it/s]\n"
     ]
    },
    {
     "name": "stdout",
     "output_type": "stream",
     "text": [
      "val Evaluation: acc: 0.83036, pr_auc: 1.00000, roc_auc: 1.00000\n",
      "[[37 19]\n",
      " [ 0 58]]\n",
      "roc_auc increasing....saving weights !! \n",
      "Val Evaluation: acc: 0.83036, pr_auc: 1.00000, roc_auc: 1.00000\n"
     ]
    },
    {
     "name": "stderr",
     "output_type": "stream",
     "text": [
      "100%|██████████| 16/16 [00:03<00:00,  5.01it/s]\n"
     ]
    },
    {
     "name": "stdout",
     "output_type": "stream",
     "text": [
      "Epoch 5 : Training Loss: 0.15887, LR: 0.00026, Time elapsed 0.05 mins\n"
     ]
    },
    {
     "name": "stderr",
     "output_type": "stream",
     "text": [
      "100%|██████████| 4/4 [00:00<00:00, 17.51it/s]\n"
     ]
    },
    {
     "name": "stdout",
     "output_type": "stream",
     "text": [
      "val Evaluation: acc: 0.65794, pr_auc: 0.79645, roc_auc: 0.79464\n",
      "[[37 19]\n",
      " [20 38]]\n"
     ]
    },
    {
     "name": "stderr",
     "output_type": "stream",
     "text": [
      "100%|██████████| 16/16 [00:03<00:00,  4.99it/s]\n"
     ]
    },
    {
     "name": "stdout",
     "output_type": "stream",
     "text": [
      "Epoch 6 : Training Loss: 0.12568, LR: 0.00024, Time elapsed 0.05 mins\n"
     ]
    },
    {
     "name": "stderr",
     "output_type": "stream",
     "text": [
      "100%|██████████| 4/4 [00:00<00:00, 17.48it/s]\n"
     ]
    },
    {
     "name": "stdout",
     "output_type": "stream",
     "text": [
      "val Evaluation: acc: 0.83036, pr_auc: 0.90346, roc_auc: 0.88608\n",
      "[[37 19]\n",
      " [ 0 58]]\n"
     ]
    },
    {
     "name": "stderr",
     "output_type": "stream",
     "text": [
      "100%|██████████| 16/16 [00:03<00:00,  5.00it/s]\n"
     ]
    },
    {
     "name": "stdout",
     "output_type": "stream",
     "text": [
      "Epoch 7 : Training Loss: 0.06651, LR: 0.00022, Time elapsed 0.05 mins\n"
     ]
    },
    {
     "name": "stderr",
     "output_type": "stream",
     "text": [
      "100%|██████████| 4/4 [00:00<00:00, 17.09it/s]\n"
     ]
    },
    {
     "name": "stdout",
     "output_type": "stream",
     "text": [
      "val Evaluation: acc: 0.83036, pr_auc: 0.95451, roc_auc: 0.95166\n",
      "[[37 19]\n",
      " [ 0 58]]\n"
     ]
    },
    {
     "name": "stderr",
     "output_type": "stream",
     "text": [
      "100%|██████████| 16/16 [00:03<00:00,  4.99it/s]\n"
     ]
    },
    {
     "name": "stdout",
     "output_type": "stream",
     "text": [
      "Epoch 8 : Training Loss: 0.03116, LR: 0.00020, Time elapsed 0.05 mins\n"
     ]
    },
    {
     "name": "stderr",
     "output_type": "stream",
     "text": [
      "100%|██████████| 4/4 [00:00<00:00, 17.50it/s]\n"
     ]
    },
    {
     "name": "stdout",
     "output_type": "stream",
     "text": [
      "val Evaluation: acc: 0.48553, pr_auc: 0.75990, roc_auc: 0.76601\n",
      "[[37 19]\n",
      " [40 18]]\n"
     ]
    },
    {
     "name": "stderr",
     "output_type": "stream",
     "text": [
      "100%|██████████| 16/16 [00:03<00:00,  5.00it/s]\n"
     ]
    },
    {
     "name": "stdout",
     "output_type": "stream",
     "text": [
      "Epoch 9 : Training Loss: 0.02336, LR: 0.00017, Time elapsed 0.05 mins\n"
     ]
    },
    {
     "name": "stderr",
     "output_type": "stream",
     "text": [
      "100%|██████████| 4/4 [00:00<00:00, 17.49it/s]\n"
     ]
    },
    {
     "name": "stdout",
     "output_type": "stream",
     "text": [
      "val Evaluation: acc: 0.65794, pr_auc: 0.83402, roc_auc: 0.82266\n",
      "[[37 19]\n",
      " [20 38]]\n"
     ]
    },
    {
     "name": "stderr",
     "output_type": "stream",
     "text": [
      "100%|██████████| 16/16 [00:03<00:00,  4.98it/s]\n"
     ]
    },
    {
     "name": "stdout",
     "output_type": "stream",
     "text": [
      "Epoch 10 : Training Loss: 0.02316, LR: 0.00015, Time elapsed 0.05 mins\n"
     ]
    },
    {
     "name": "stderr",
     "output_type": "stream",
     "text": [
      "100%|██████████| 4/4 [00:00<00:00, 17.51it/s]\n"
     ]
    },
    {
     "name": "stdout",
     "output_type": "stream",
     "text": [
      "val Evaluation: acc: 0.65794, pr_auc: 0.90060, roc_auc: 0.88239\n",
      "[[37 19]\n",
      " [20 38]]\n"
     ]
    },
    {
     "name": "stderr",
     "output_type": "stream",
     "text": [
      "100%|██████████| 16/16 [00:03<00:00,  4.98it/s]\n"
     ]
    },
    {
     "name": "stdout",
     "output_type": "stream",
     "text": [
      "Epoch 11 : Training Loss: 0.01542, LR: 0.00013, Time elapsed 0.05 mins\n"
     ]
    },
    {
     "name": "stderr",
     "output_type": "stream",
     "text": [
      "100%|██████████| 4/4 [00:00<00:00, 17.47it/s]\n"
     ]
    },
    {
     "name": "stdout",
     "output_type": "stream",
     "text": [
      "val Evaluation: acc: 0.65794, pr_auc: 0.75990, roc_auc: 0.76601\n",
      "[[37 19]\n",
      " [20 38]]\n"
     ]
    },
    {
     "name": "stderr",
     "output_type": "stream",
     "text": [
      "100%|██████████| 16/16 [00:03<00:00,  4.98it/s]\n"
     ]
    },
    {
     "name": "stdout",
     "output_type": "stream",
     "text": [
      "Epoch 12 : Training Loss: 0.00029, LR: 0.00010, Time elapsed 0.05 mins\n"
     ]
    },
    {
     "name": "stderr",
     "output_type": "stream",
     "text": [
      "100%|██████████| 4/4 [00:00<00:00, 17.47it/s]\n"
     ]
    },
    {
     "name": "stdout",
     "output_type": "stream",
     "text": [
      "val Evaluation: acc: 0.65794, pr_auc: 0.75990, roc_auc: 0.76601\n",
      "[[37 19]\n",
      " [20 38]]\n"
     ]
    },
    {
     "name": "stderr",
     "output_type": "stream",
     "text": [
      "100%|██████████| 16/16 [00:03<00:00,  4.97it/s]\n"
     ]
    },
    {
     "name": "stdout",
     "output_type": "stream",
     "text": [
      "Epoch 13 : Training Loss: 0.00111, LR: 0.00008, Time elapsed 0.05 mins\n"
     ]
    },
    {
     "name": "stderr",
     "output_type": "stream",
     "text": [
      "100%|██████████| 4/4 [00:00<00:00, 17.42it/s]\n"
     ]
    },
    {
     "name": "stdout",
     "output_type": "stream",
     "text": [
      "val Evaluation: acc: 0.65794, pr_auc: 0.75990, roc_auc: 0.76601\n",
      "[[37 19]\n",
      " [20 38]]\n"
     ]
    },
    {
     "name": "stderr",
     "output_type": "stream",
     "text": [
      "100%|██████████| 16/16 [00:03<00:00,  4.96it/s]\n"
     ]
    },
    {
     "name": "stdout",
     "output_type": "stream",
     "text": [
      "Epoch 14 : Training Loss: 0.00026, LR: 0.00006, Time elapsed 0.05 mins\n"
     ]
    },
    {
     "name": "stderr",
     "output_type": "stream",
     "text": [
      "100%|██████████| 4/4 [00:00<00:00, 17.34it/s]\n"
     ]
    },
    {
     "name": "stdout",
     "output_type": "stream",
     "text": [
      "val Evaluation: acc: 0.65794, pr_auc: 0.75990, roc_auc: 0.76601\n",
      "[[37 19]\n",
      " [20 38]]\n"
     ]
    },
    {
     "name": "stderr",
     "output_type": "stream",
     "text": [
      "100%|██████████| 16/16 [00:03<00:00,  4.96it/s]\n"
     ]
    },
    {
     "name": "stdout",
     "output_type": "stream",
     "text": [
      "Epoch 15 : Training Loss: 0.00022, LR: 0.00004, Time elapsed 0.05 mins\n"
     ]
    },
    {
     "name": "stderr",
     "output_type": "stream",
     "text": [
      "100%|██████████| 4/4 [00:00<00:00, 17.44it/s]\n"
     ]
    },
    {
     "name": "stdout",
     "output_type": "stream",
     "text": [
      "val Evaluation: acc: 0.63208, pr_auc: 0.75990, roc_auc: 0.76601\n",
      "[[37 19]\n",
      " [23 35]]\n"
     ]
    },
    {
     "name": "stderr",
     "output_type": "stream",
     "text": [
      "100%|██████████| 16/16 [00:03<00:00,  4.95it/s]\n"
     ]
    },
    {
     "name": "stdout",
     "output_type": "stream",
     "text": [
      "Epoch 16 : Training Loss: 0.00195, LR: 0.00003, Time elapsed 0.05 mins\n"
     ]
    },
    {
     "name": "stderr",
     "output_type": "stream",
     "text": [
      "100%|██████████| 4/4 [00:00<00:00, 17.36it/s]\n"
     ]
    },
    {
     "name": "stdout",
     "output_type": "stream",
     "text": [
      "val Evaluation: acc: 0.65794, pr_auc: 0.75990, roc_auc: 0.76601\n",
      "[[37 19]\n",
      " [20 38]]\n"
     ]
    },
    {
     "name": "stderr",
     "output_type": "stream",
     "text": [
      "100%|██████████| 16/16 [00:03<00:00,  4.95it/s]\n"
     ]
    },
    {
     "name": "stdout",
     "output_type": "stream",
     "text": [
      "Epoch 17 : Training Loss: 0.00010, LR: 0.00002, Time elapsed 0.05 mins\n"
     ]
    },
    {
     "name": "stderr",
     "output_type": "stream",
     "text": [
      "100%|██████████| 4/4 [00:00<00:00, 17.18it/s]\n"
     ]
    },
    {
     "name": "stdout",
     "output_type": "stream",
     "text": [
      "val Evaluation: acc: 0.65794, pr_auc: 0.75990, roc_auc: 0.76601\n",
      "[[37 19]\n",
      " [20 38]]\n"
     ]
    },
    {
     "name": "stderr",
     "output_type": "stream",
     "text": [
      "100%|██████████| 16/16 [00:03<00:00,  4.93it/s]\n"
     ]
    },
    {
     "name": "stdout",
     "output_type": "stream",
     "text": [
      "Epoch 18 : Training Loss: 0.00603, LR: 0.00001, Time elapsed 0.05 mins\n"
     ]
    },
    {
     "name": "stderr",
     "output_type": "stream",
     "text": [
      "100%|██████████| 4/4 [00:00<00:00, 17.39it/s]\n"
     ]
    },
    {
     "name": "stdout",
     "output_type": "stream",
     "text": [
      "val Evaluation: acc: 0.65794, pr_auc: 0.75990, roc_auc: 0.76601\n",
      "[[37 19]\n",
      " [20 38]]\n"
     ]
    },
    {
     "name": "stderr",
     "output_type": "stream",
     "text": [
      "100%|██████████| 16/16 [00:03<00:00,  4.93it/s]\n"
     ]
    },
    {
     "name": "stdout",
     "output_type": "stream",
     "text": [
      "Epoch 19 : Training Loss: 0.00009, LR: 0.00000, Time elapsed 0.05 mins\n"
     ]
    },
    {
     "name": "stderr",
     "output_type": "stream",
     "text": [
      "100%|██████████| 4/4 [00:00<00:00, 17.25it/s]\n"
     ]
    },
    {
     "name": "stdout",
     "output_type": "stream",
     "text": [
      "val Evaluation: acc: 0.65794, pr_auc: 0.75990, roc_auc: 0.76601\n",
      "[[37 19]\n",
      " [20 38]]\n"
     ]
    },
    {
     "name": "stderr",
     "output_type": "stream",
     "text": [
      "100%|██████████| 16/16 [00:03<00:00,  4.92it/s]\n"
     ]
    },
    {
     "name": "stdout",
     "output_type": "stream",
     "text": [
      "Epoch 20 : Training Loss: 0.00564, LR: 0.00000, Time elapsed 0.05 mins\n"
     ]
    },
    {
     "name": "stderr",
     "output_type": "stream",
     "text": [
      "100%|██████████| 4/4 [00:00<00:00, 17.27it/s]\n"
     ]
    },
    {
     "name": "stdout",
     "output_type": "stream",
     "text": [
      "val Evaluation: acc: 0.65794, pr_auc: 0.75990, roc_auc: 0.76601\n",
      "[[37 19]\n",
      " [20 38]]\n",
      "***************************Test************************\n"
     ]
    },
    {
     "name": "stderr",
     "output_type": "stream",
     "text": [
      "100%|██████████| 5/5 [00:00<00:00, 17.44it/s]\n",
      "\u001b[34m\u001b[1mwandb\u001b[0m: \u001b[32m\u001b[41mERROR\u001b[0m The nbformat package was not found. It is required to save notebook history.\n"
     ]
    },
    {
     "name": "stdout",
     "output_type": "stream",
     "text": [
      "***************************Test results************************\n",
      "Test Evaluation: acc: 0.74667, pr_auc: 0.77444, roc_auc: 0.79200\n",
      "[[37 38]\n",
      " [ 0 60]]\n",
      "model save in ./data/wjq/models_weights/Big/BigFaced/epoch20_acc_0.74667_pr_0.77444_roc_0.79200.pth\n"
     ]
    },
    {
     "data": {
      "text/html": [],
      "text/plain": [
       "<IPython.core.display.HTML object>"
      ]
     },
     "metadata": {},
     "output_type": "display_data"
    },
    {
     "data": {
      "text/html": [
       "<br>    <style><br>        .wandb-row {<br>            display: flex;<br>            flex-direction: row;<br>            flex-wrap: wrap;<br>            justify-content: flex-start;<br>            width: 100%;<br>        }<br>        .wandb-col {<br>            display: flex;<br>            flex-direction: column;<br>            flex-basis: 100%;<br>            flex: 1;<br>            padding: 10px;<br>        }<br>    </style><br><div class=\"wandb-row\"><div class=\"wandb-col\"><h3>Run history:</h3><br/><table class=\"wandb\"><tr><td>epoch</td><td>▁▁▂▂▂▃▃▄▄▄▅▅▅▆▆▇▇▇██</td></tr><tr><td>lr</td><td>███▇▇▇▆▆▅▅▄▃▃▂▂▂▁▁▁▁</td></tr><tr><td>test/acc</td><td>▁</td></tr><tr><td>test/pr_auc</td><td>▁</td></tr><tr><td>test/roc_auc</td><td>▁</td></tr><tr><td>time_min</td><td>█▁▁▁▁▁▁▁▁▁▁▁▁▁▁▁▁▁▁▁</td></tr><tr><td>train/loss</td><td>██▇▃▃▂▂▁▁▁▁▁▁▁▁▁▁▁▁▁</td></tr></table><br/></div><div class=\"wandb-col\"><h3>Run summary:</h3><br/><table class=\"wandb\"><tr><td>epoch</td><td>20</td></tr><tr><td>lr</td><td>0.0</td></tr><tr><td>test/acc</td><td>0.74667</td></tr><tr><td>test/pr_auc</td><td>0.77444</td></tr><tr><td>test/roc_auc</td><td>0.792</td></tr><tr><td>time_min</td><td>0.05424</td></tr><tr><td>train/loss</td><td>0.00564</td></tr></table><br/></div></div>"
      ],
      "text/plain": [
       "<IPython.core.display.HTML object>"
      ]
     },
     "metadata": {},
     "output_type": "display_data"
    },
    {
     "data": {
      "text/html": [
       " View run <strong style=\"color:#cdcd00\">data_PEARL_seed_3407</strong> at: <a href='https://wandb.ai/hoainiem-hanoi-university-of-science-and-technology/EEGFoundationModel/runs/64ag433l' target=\"_blank\">https://wandb.ai/hoainiem-hanoi-university-of-science-and-technology/EEGFoundationModel/runs/64ag433l</a><br> View project at: <a href='https://wandb.ai/hoainiem-hanoi-university-of-science-and-technology/EEGFoundationModel' target=\"_blank\">https://wandb.ai/hoainiem-hanoi-university-of-science-and-technology/EEGFoundationModel</a><br>Synced 5 W&B file(s), 0 media file(s), 0 artifact file(s) and 0 other file(s)"
      ],
      "text/plain": [
       "<IPython.core.display.HTML object>"
      ]
     },
     "metadata": {},
     "output_type": "display_data"
    },
    {
     "data": {
      "text/html": [
       "Find logs at: <code>./wandb/run-20250918_220831-64ag433l/logs</code>"
      ],
      "text/plain": [
       "<IPython.core.display.HTML object>"
      ]
     },
     "metadata": {},
     "output_type": "display_data"
    },
    {
     "name": "stdout",
     "output_type": "stream",
     "text": [
      "5-fold cross validation results: acc 0.7466666666666667, pr_auc 0.7744440317647967, roc_auc 0.792\n",
      "Done!!!!!\n"
     ]
    }
   ],
   "source": [
    "\n",
    "# print('dmm')\n",
    "wandb.login(key='ca0cbcfb28dcbf7cd1b54e0a6d40d8a482fc730f')\n",
    "main()\n",
    "wandb.finish()\n"
   ]
  }
 ],
 "metadata": {
  "kernelspec": {
   "display_name": "cbramod",
   "language": "python",
   "name": "python3"
  },
  "language_info": {
   "codemirror_mode": {
    "name": "ipython",
    "version": 3
   },
   "file_extension": ".py",
   "mimetype": "text/x-python",
   "name": "python",
   "nbconvert_exporter": "python",
   "pygments_lexer": "ipython3",
   "version": "3.12.11"
  }
 },
 "nbformat": 4,
 "nbformat_minor": 5
}
