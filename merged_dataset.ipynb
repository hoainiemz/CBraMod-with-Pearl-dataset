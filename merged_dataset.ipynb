{
 "cells": [
  {
   "cell_type": "code",
   "execution_count": 2,
   "id": "8f375925",
   "metadata": {},
   "outputs": [],
   "source": [
    "from datasets.merged_dataset import MergedPretrainingDataset\n",
    "import lmdb"
   ]
  },
  {
   "cell_type": "code",
   "execution_count": null,
   "id": "ade60efe",
   "metadata": {},
   "outputs": [],
   "source": [
    "data = MergedPretrainingDataset(\n",
    "    dataset_dirs=[\n",
    "        '/mnt/disk1/aiotlab/namth/EEGFoundationModel/datasets/dummy_data_ica_a7'\n",
    "    ]\n",
    ")"
   ]
  },
  {
   "cell_type": "code",
   "execution_count": 4,
   "id": "c99cceb8",
   "metadata": {},
   "outputs": [
    {
     "data": {
      "text/plain": [
       "torch.Size([19, 6000])"
      ]
     },
     "execution_count": 4,
     "metadata": {},
     "output_type": "execute_result"
    }
   ],
   "source": [
    "data[0].shape"
   ]
  }
 ],
 "metadata": {
  "kernelspec": {
   "display_name": "hoainiem",
   "language": "python",
   "name": "python3"
  },
  "language_info": {
   "codemirror_mode": {
    "name": "ipython",
    "version": 3
   },
   "file_extension": ".py",
   "mimetype": "text/x-python",
   "name": "python",
   "nbconvert_exporter": "python",
   "pygments_lexer": "ipython3",
   "version": "3.12.11"
  }
 },
 "nbformat": 4,
 "nbformat_minor": 5
}
